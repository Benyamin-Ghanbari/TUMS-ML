{
 "cells": [
  {
   "cell_type": "markdown",
   "id": "9fe391e3",
   "metadata": {},
   "source": [
    "<div align=\"center\">\n",
    "    <img src=\"Pic/TUMS-Logo.png\" width=\"220\" height=\"220\">\n",
    "    <br>\n",
    "    <font color=\"#0F5298\" size=\"8\">\n",
    "        Introduction to Machine Learning\n",
    "    </font>\n",
    "    <br>\n",
    "    <br>\n",
    "    <br>\n",
    "    <font color=\"orange\" size=\"5\">\n",
    "        Benyamin Ghanbari\n",
    "    </font>\n",
    "</div>\n"
   ]
  },
  {
   "cell_type": "markdown",
   "id": "2aa2a5e0",
   "metadata": {},
   "source": [
    "# Numpy & Pandas"
   ]
  },
  {
   "cell_type": "code",
   "execution_count": 1,
   "id": "41496edc",
   "metadata": {},
   "outputs": [],
   "source": [
    "import numpy as np\n",
    "import pandas as pd"
   ]
  },
  {
   "cell_type": "markdown",
   "id": "8cf56541",
   "metadata": {},
   "source": [
    "**Numpy**"
   ]
  },
  {
   "cell_type": "code",
   "execution_count": 5,
   "id": "98e3fa51",
   "metadata": {},
   "outputs": [
    {
     "name": "stdout",
     "output_type": "stream",
     "text": [
      "1D Array: [1 2 3 4 5]\n"
     ]
    }
   ],
   "source": [
    "# Create a 1D array\n",
    "a = np.array([1, 2, 3, 4, 5])\n",
    "print(\"1D Array:\", a)"
   ]
  },
  {
   "cell_type": "code",
   "execution_count": 6,
   "id": "d57b16bc",
   "metadata": {},
   "outputs": [
    {
     "name": "stdout",
     "output_type": "stream",
     "text": [
      "\n",
      "2D Array:\n",
      "[[1 2 3]\n",
      " [4 5 6]]\n"
     ]
    }
   ],
   "source": [
    "# Create a 2D array\n",
    "b = np.array([[1, 2, 3], [4, 5, 6]])\n",
    "print(\"\\n2D Array:\")\n",
    "print(b)"
   ]
  },
  {
   "cell_type": "code",
   "execution_count": 7,
   "id": "ac7269f6",
   "metadata": {},
   "outputs": [
    {
     "name": "stdout",
     "output_type": "stream",
     "text": [
      "\n",
      "Array Shape: (2, 3)\n",
      "Array Size: 6\n",
      "Array Data Type: int32\n"
     ]
    }
   ],
   "source": [
    "# Array properties\n",
    "print(\"\\nArray Shape:\", b.shape)\n",
    "print(\"Array Size:\", b.size)\n",
    "print(\"Array Data Type:\", b.dtype)\n"
   ]
  },
  {
   "cell_type": "code",
   "execution_count": 8,
   "id": "1fa85058",
   "metadata": {},
   "outputs": [
    {
     "name": "stdout",
     "output_type": "stream",
     "text": [
      "\n",
      "Addition: [11 12 13 14 15]\n",
      "Multiplication: [ 2  4  6  8 10]\n",
      "Exponentiation: [ 1  4  9 16 25]\n"
     ]
    }
   ],
   "source": [
    "# Element-wise operations\n",
    "print(\"\\nAddition:\", a + 10)\n",
    "print(\"Multiplication:\", a * 2)\n",
    "print(\"Exponentiation:\", np.power(a, 2))\n"
   ]
  },
  {
   "cell_type": "code",
   "execution_count": 9,
   "id": "37aa229f",
   "metadata": {},
   "outputs": [
    {
     "name": "stdout",
     "output_type": "stream",
     "text": [
      "\n",
      "Reshaped Array:\n",
      "[[ 0  1  2  3]\n",
      " [ 4  5  6  7]\n",
      " [ 8  9 10 11]]\n"
     ]
    }
   ],
   "source": [
    "# Reshape array\n",
    "c = np.arange(12).reshape(3, 4)\n",
    "print(\"\\nReshaped Array:\")\n",
    "print(c)\n"
   ]
  },
  {
   "cell_type": "code",
   "execution_count": 10,
   "id": "f628553b",
   "metadata": {},
   "outputs": [
    {
     "name": "stdout",
     "output_type": "stream",
     "text": [
      "\n",
      "Slice: 6\n",
      "Row 2: [ 8  9 10 11]\n",
      "Column 3: [ 3  7 11]\n"
     ]
    }
   ],
   "source": [
    "# Slicing\n",
    "print(\"\\nSlice:\", c[1, 2])  # Access element at row 1, column 2\n",
    "print(\"Row 2:\", c[2, :])\n",
    "print(\"Column 3:\", c[:, 3])"
   ]
  },
  {
   "cell_type": "code",
   "execution_count": 11,
   "id": "f48d6023",
   "metadata": {},
   "outputs": [
    {
     "name": "stdout",
     "output_type": "stream",
     "text": [
      "\n",
      "Elements > 5: [ 6  7  8  9 10 11]\n"
     ]
    }
   ],
   "source": [
    "# Boolean indexing\n",
    "print(\"\\nElements > 5:\", c[c > 5])"
   ]
  },
  {
   "cell_type": "code",
   "execution_count": 12,
   "id": "fc7e36a3",
   "metadata": {},
   "outputs": [
    {
     "name": "stdout",
     "output_type": "stream",
     "text": [
      "\n",
      "Sum: 66\n",
      "Mean: 5.5\n",
      "Standard Deviation: 3.452052529534663\n"
     ]
    }
   ],
   "source": [
    "# Aggregation functions\n",
    "print(\"\\nSum:\", c.sum())\n",
    "print(\"Mean:\", c.mean())\n",
    "print(\"Standard Deviation:\", c.std())"
   ]
  },
  {
   "cell_type": "code",
   "execution_count": 13,
   "id": "14943a86",
   "metadata": {},
   "outputs": [
    {
     "name": "stdout",
     "output_type": "stream",
     "text": [
      "\n",
      "Zeros Array:\n",
      "[[0. 0. 0.]\n",
      " [0. 0. 0.]]\n"
     ]
    }
   ],
   "source": [
    "# Creating special arrays\n",
    "zeros = np.zeros((2, 3))\n",
    "print(\"\\nZeros Array:\")\n",
    "print(zeros)"
   ]
  },
  {
   "cell_type": "code",
   "execution_count": 14,
   "id": "9a442403",
   "metadata": {},
   "outputs": [
    {
     "name": "stdout",
     "output_type": "stream",
     "text": [
      "\n",
      "Ones Array:\n",
      "[[1. 1. 1.]\n",
      " [1. 1. 1.]\n",
      " [1. 1. 1.]]\n"
     ]
    }
   ],
   "source": [
    "# Creating special arrays\n",
    "ones = np.ones((3, 3))\n",
    "print(\"\\nOnes Array:\")\n",
    "print(ones)"
   ]
  },
  {
   "cell_type": "code",
   "execution_count": 15,
   "id": "bdf171bd",
   "metadata": {},
   "outputs": [
    {
     "name": "stdout",
     "output_type": "stream",
     "text": [
      "\n",
      "Identity Matrix:\n",
      "[[1. 0. 0. 0.]\n",
      " [0. 1. 0. 0.]\n",
      " [0. 0. 1. 0.]\n",
      " [0. 0. 0. 1.]]\n"
     ]
    }
   ],
   "source": [
    "identity = np.eye(4)\n",
    "print(\"\\nIdentity Matrix:\")\n",
    "print(identity)"
   ]
  },
  {
   "cell_type": "code",
   "execution_count": 16,
   "id": "1b0c0d5c",
   "metadata": {},
   "outputs": [
    {
     "name": "stdout",
     "output_type": "stream",
     "text": [
      "\n",
      "Random Array:\n",
      "[[0.95456888 0.19161479]\n",
      " [0.78425404 0.25771596]]\n"
     ]
    }
   ],
   "source": [
    "# Random number generation\n",
    "rand_array = np.random.rand(2, 2)\n",
    "print(\"\\nRandom Array:\")\n",
    "print(rand_array)\n"
   ]
  },
  {
   "cell_type": "code",
   "execution_count": 17,
   "id": "ccade27a",
   "metadata": {},
   "outputs": [
    {
     "name": "stdout",
     "output_type": "stream",
     "text": [
      "\n",
      "Random Integers Array:\n",
      "[[5 0 0]\n",
      " [3 5 9]\n",
      " [3 3 4]]\n"
     ]
    }
   ],
   "source": [
    "rand_ints = np.random.randint(0, 10, size=(3, 3))\n",
    "print(\"\\nRandom Integers Array:\")\n",
    "print(rand_ints)\n"
   ]
  },
  {
   "cell_type": "code",
   "execution_count": 18,
   "id": "7a5baf58",
   "metadata": {},
   "outputs": [
    {
     "name": "stdout",
     "output_type": "stream",
     "text": [
      "\n",
      "Matrix Multiplication:\n",
      "[[19 22]\n",
      " [43 50]]\n",
      "\n",
      "Transpose of Matrix A:\n",
      "[[1 3]\n",
      " [2 4]]\n"
     ]
    }
   ],
   "source": [
    "# Linear algebra\n",
    "matrix_a = np.array([[1, 2], [3, 4]])\n",
    "matrix_b = np.array([[5, 6], [7, 8]])\n",
    "\n",
    "matrix_mult = np.dot(matrix_a, matrix_b)\n",
    "print(\"\\nMatrix Multiplication:\")\n",
    "print(matrix_mult)\n",
    "\n",
    "matrix_transpose = matrix_a.T\n",
    "print(\"\\nTranspose of Matrix A:\")\n",
    "print(matrix_transpose)"
   ]
  },
  {
   "cell_type": "code",
   "execution_count": 19,
   "id": "ed2e8d30",
   "metadata": {},
   "outputs": [
    {
     "name": "stdout",
     "output_type": "stream",
     "text": [
      "\n",
      "Min of Array A: 1\n",
      "Max of Array A: 4\n",
      "Median of Array A: 2.5\n",
      "Variance of Array A: 1.25\n"
     ]
    }
   ],
   "source": [
    "# Statistical operations\n",
    "print(\"\\nMin of Array A:\", np.min(matrix_a))\n",
    "print(\"Max of Array A:\", np.max(matrix_a))\n",
    "print(\"Median of Array A:\", np.median(matrix_a))\n",
    "print(\"Variance of Array A:\", np.var(matrix_a))\n"
   ]
  },
  {
   "cell_type": "code",
   "execution_count": 20,
   "id": "59c4a272",
   "metadata": {},
   "outputs": [
    {
     "name": "stdout",
     "output_type": "stream",
     "text": [
      "\n",
      "Broadcasted Addition:\n",
      "[[2 3 4]\n",
      " [3 4 5]\n",
      " [4 5 6]]\n"
     ]
    }
   ],
   "source": [
    "# Broadcasting example\n",
    "a = np.array([1, 2, 3])\n",
    "b = np.array([[1], [2], [3]])\n",
    "print(\"\\nBroadcasted Addition:\")\n",
    "print(a + b)"
   ]
  },
  {
   "cell_type": "code",
   "execution_count": 22,
   "id": "5dc1ea0c",
   "metadata": {},
   "outputs": [
    {
     "data": {
      "text/plain": [
       "2"
      ]
     },
     "execution_count": 22,
     "metadata": {},
     "output_type": "execute_result"
    }
   ],
   "source": [
    "# Dimension\n",
    "np.ndim(matrix_a)"
   ]
  },
  {
   "cell_type": "code",
   "execution_count": 23,
   "id": "929fbe62",
   "metadata": {},
   "outputs": [
    {
     "name": "stdout",
     "output_type": "stream",
     "text": [
      "\n",
      "Vertically Stacked Arrays:\n",
      "[[1 2 3]\n",
      " [4 5 6]]\n",
      "\n",
      "Horizontally Stacked Arrays:\n",
      "[[1 4]\n",
      " [2 5]\n",
      " [3 6]]\n"
     ]
    }
   ],
   "source": [
    "# Stack arrays vertically\n",
    "array1 = np.array([1, 2, 3])\n",
    "array2 = np.array([4, 5, 6])\n",
    "vstacked = np.vstack((array1, array2))\n",
    "print(\"\\nVertically Stacked Arrays:\")\n",
    "print(vstacked)\n",
    "\n",
    "# Stack arrays horizontally\n",
    "hstacked = np.hstack((array1.reshape(-1, 1), array2.reshape(-1, 1)))\n",
    "print(\"\\nHorizontally Stacked Arrays:\")\n",
    "print(hstacked)"
   ]
  },
  {
   "cell_type": "code",
   "execution_count": 24,
   "id": "ccd417a6",
   "metadata": {},
   "outputs": [
    {
     "name": "stdout",
     "output_type": "stream",
     "text": [
      "\n",
      "Array with Float Data Type:\n",
      "[1. 2. 3.]\n"
     ]
    }
   ],
   "source": [
    "# Change datatype of array\n",
    "float_array = a.astype(float)\n",
    "print(\"\\nArray with Float Data Type:\")\n",
    "print(float_array)\n"
   ]
  },
  {
   "cell_type": "code",
   "execution_count": 26,
   "id": "9d5a92cb",
   "metadata": {},
   "outputs": [
    {
     "name": "stdout",
     "output_type": "stream",
     "text": [
      "(array([3, 5, 6], dtype=int64),)\n"
     ]
    }
   ],
   "source": [
    "# Search \n",
    "# Find the indexes where the value is 4:\n",
    "arr = np.array([1, 2, 3, 4, 5, 4, 4])\n",
    "x = np.where(arr == 4)\n",
    "print(x)"
   ]
  },
  {
   "cell_type": "code",
   "execution_count": 28,
   "id": "1874b01e",
   "metadata": {},
   "outputs": [
    {
     "name": "stdout",
     "output_type": "stream",
     "text": [
      "[1 2 3 4 5 6]\n"
     ]
    }
   ],
   "source": [
    "# Joining NumPy Arrays\n",
    "arr1 = np.array([1, 2, 3])\n",
    "arr2 = np.array([4, 5, 6])\n",
    "arr = np.concatenate((arr1, arr2))\n",
    "print(arr)"
   ]
  },
  {
   "cell_type": "code",
   "execution_count": 29,
   "id": "22a90ca1",
   "metadata": {},
   "outputs": [
    {
     "name": "stdout",
     "output_type": "stream",
     "text": [
      "[[1 2 5 6]\n",
      " [3 4 7 8]]\n"
     ]
    }
   ],
   "source": [
    "# Joining NumPy Arrays\n",
    "arr1 = np.array([[1, 2], [3, 4]])\n",
    "arr2 = np.array([[5, 6], [7, 8]])\n",
    "arr = np.concatenate((arr1, arr2), axis=1)\n",
    "print(arr)"
   ]
  },
  {
   "cell_type": "markdown",
   "id": "ee2442ed",
   "metadata": {},
   "source": [
    "**Pandas**"
   ]
  },
  {
   "cell_type": "code",
   "execution_count": 25,
   "id": "1524fc54",
   "metadata": {},
   "outputs": [
    {
     "name": "stdout",
     "output_type": "stream",
     "text": [
      "\n",
      "DataFrame:\n",
      "      Name  Age         City\n",
      "0    Alice   25     New York\n",
      "1      Bob   30  Los Angeles\n",
      "2  Charlie   35      Chicago\n"
     ]
    }
   ],
   "source": [
    "# Create a DataFrame from a dictionary\n",
    "data = {\n",
    "    \"Name\": [\"Alice\", \"Bob\", \"Charlie\"],\n",
    "    \"Age\": [25, 30, 35],\n",
    "    \"City\": [\"New York\", \"Los Angeles\", \"Chicago\"]\n",
    "}\n",
    "df = pd.DataFrame(data)\n",
    "print(\"\\nDataFrame:\")\n",
    "print(df)"
   ]
  },
  {
   "cell_type": "code",
   "execution_count": 3,
   "id": "0addffd3",
   "metadata": {},
   "outputs": [
    {
     "data": {
      "text/html": [
       "<div>\n",
       "<style scoped>\n",
       "    .dataframe tbody tr th:only-of-type {\n",
       "        vertical-align: middle;\n",
       "    }\n",
       "\n",
       "    .dataframe tbody tr th {\n",
       "        vertical-align: top;\n",
       "    }\n",
       "\n",
       "    .dataframe thead th {\n",
       "        text-align: right;\n",
       "    }\n",
       "</style>\n",
       "<table border=\"1\" class=\"dataframe\">\n",
       "  <thead>\n",
       "    <tr style=\"text-align: right;\">\n",
       "      <th></th>\n",
       "      <th>Age</th>\n",
       "      <th>Gender</th>\n",
       "      <th>Heart rate</th>\n",
       "      <th>Systolic blood pressure</th>\n",
       "      <th>Diastolic blood pressure</th>\n",
       "      <th>Blood sugar</th>\n",
       "      <th>CK-MB</th>\n",
       "      <th>Troponin</th>\n",
       "      <th>Result</th>\n",
       "    </tr>\n",
       "  </thead>\n",
       "  <tbody>\n",
       "    <tr>\n",
       "      <th>0</th>\n",
       "      <td>63</td>\n",
       "      <td>1</td>\n",
       "      <td>66</td>\n",
       "      <td>160</td>\n",
       "      <td>83</td>\n",
       "      <td>160.0</td>\n",
       "      <td>1.80</td>\n",
       "      <td>0.012</td>\n",
       "      <td>negative</td>\n",
       "    </tr>\n",
       "    <tr>\n",
       "      <th>1</th>\n",
       "      <td>20</td>\n",
       "      <td>1</td>\n",
       "      <td>94</td>\n",
       "      <td>98</td>\n",
       "      <td>46</td>\n",
       "      <td>296.0</td>\n",
       "      <td>6.75</td>\n",
       "      <td>1.060</td>\n",
       "      <td>positive</td>\n",
       "    </tr>\n",
       "    <tr>\n",
       "      <th>2</th>\n",
       "      <td>56</td>\n",
       "      <td>1</td>\n",
       "      <td>64</td>\n",
       "      <td>160</td>\n",
       "      <td>77</td>\n",
       "      <td>270.0</td>\n",
       "      <td>1.99</td>\n",
       "      <td>0.003</td>\n",
       "      <td>negative</td>\n",
       "    </tr>\n",
       "    <tr>\n",
       "      <th>3</th>\n",
       "      <td>66</td>\n",
       "      <td>1</td>\n",
       "      <td>70</td>\n",
       "      <td>120</td>\n",
       "      <td>55</td>\n",
       "      <td>270.0</td>\n",
       "      <td>13.87</td>\n",
       "      <td>0.122</td>\n",
       "      <td>positive</td>\n",
       "    </tr>\n",
       "    <tr>\n",
       "      <th>4</th>\n",
       "      <td>54</td>\n",
       "      <td>1</td>\n",
       "      <td>64</td>\n",
       "      <td>112</td>\n",
       "      <td>65</td>\n",
       "      <td>300.0</td>\n",
       "      <td>1.08</td>\n",
       "      <td>0.003</td>\n",
       "      <td>negative</td>\n",
       "    </tr>\n",
       "    <tr>\n",
       "      <th>5</th>\n",
       "      <td>52</td>\n",
       "      <td>0</td>\n",
       "      <td>61</td>\n",
       "      <td>112</td>\n",
       "      <td>58</td>\n",
       "      <td>87.0</td>\n",
       "      <td>1.83</td>\n",
       "      <td>0.004</td>\n",
       "      <td>negative</td>\n",
       "    </tr>\n",
       "    <tr>\n",
       "      <th>6</th>\n",
       "      <td>38</td>\n",
       "      <td>0</td>\n",
       "      <td>40</td>\n",
       "      <td>179</td>\n",
       "      <td>68</td>\n",
       "      <td>102.0</td>\n",
       "      <td>0.71</td>\n",
       "      <td>0.003</td>\n",
       "      <td>negative</td>\n",
       "    </tr>\n",
       "    <tr>\n",
       "      <th>7</th>\n",
       "      <td>61</td>\n",
       "      <td>1</td>\n",
       "      <td>60</td>\n",
       "      <td>214</td>\n",
       "      <td>82</td>\n",
       "      <td>87.0</td>\n",
       "      <td>300.00</td>\n",
       "      <td>2.370</td>\n",
       "      <td>positive</td>\n",
       "    </tr>\n",
       "    <tr>\n",
       "      <th>8</th>\n",
       "      <td>49</td>\n",
       "      <td>0</td>\n",
       "      <td>60</td>\n",
       "      <td>154</td>\n",
       "      <td>81</td>\n",
       "      <td>135.0</td>\n",
       "      <td>2.35</td>\n",
       "      <td>0.004</td>\n",
       "      <td>negative</td>\n",
       "    </tr>\n",
       "    <tr>\n",
       "      <th>9</th>\n",
       "      <td>65</td>\n",
       "      <td>1</td>\n",
       "      <td>61</td>\n",
       "      <td>160</td>\n",
       "      <td>95</td>\n",
       "      <td>100.0</td>\n",
       "      <td>2.84</td>\n",
       "      <td>0.011</td>\n",
       "      <td>negative</td>\n",
       "    </tr>\n",
       "  </tbody>\n",
       "</table>\n",
       "</div>"
      ],
      "text/plain": [
       "   Age  Gender  Heart rate  Systolic blood pressure  Diastolic blood pressure  \\\n",
       "0   63       1          66                      160                        83   \n",
       "1   20       1          94                       98                        46   \n",
       "2   56       1          64                      160                        77   \n",
       "3   66       1          70                      120                        55   \n",
       "4   54       1          64                      112                        65   \n",
       "5   52       0          61                      112                        58   \n",
       "6   38       0          40                      179                        68   \n",
       "7   61       1          60                      214                        82   \n",
       "8   49       0          60                      154                        81   \n",
       "9   65       1          61                      160                        95   \n",
       "\n",
       "   Blood sugar   CK-MB  Troponin    Result  \n",
       "0        160.0    1.80     0.012  negative  \n",
       "1        296.0    6.75     1.060  positive  \n",
       "2        270.0    1.99     0.003  negative  \n",
       "3        270.0   13.87     0.122  positive  \n",
       "4        300.0    1.08     0.003  negative  \n",
       "5         87.0    1.83     0.004  negative  \n",
       "6        102.0    0.71     0.003  negative  \n",
       "7         87.0  300.00     2.370  positive  \n",
       "8        135.0    2.35     0.004  negative  \n",
       "9        100.0    2.84     0.011  negative  "
      ]
     },
     "execution_count": 3,
     "metadata": {},
     "output_type": "execute_result"
    }
   ],
   "source": [
    "# Read data from csv file\n",
    "df = pd.read_csv('data/HeartAttack.csv')\n",
    "# Show first 10 row\n",
    "df.head(10)"
   ]
  },
  {
   "cell_type": "code",
   "execution_count": 5,
   "id": "84e9792b",
   "metadata": {},
   "outputs": [
    {
     "name": "stdout",
     "output_type": "stream",
     "text": [
      "<class 'pandas.core.frame.DataFrame'>\n",
      "RangeIndex: 1319 entries, 0 to 1318\n",
      "Data columns (total 9 columns):\n",
      " #   Column                    Non-Null Count  Dtype  \n",
      "---  ------                    --------------  -----  \n",
      " 0   Age                       1319 non-null   int64  \n",
      " 1   Gender                    1319 non-null   int64  \n",
      " 2   Heart rate                1319 non-null   int64  \n",
      " 3   Systolic blood pressure   1319 non-null   int64  \n",
      " 4   Diastolic blood pressure  1319 non-null   int64  \n",
      " 5   Blood sugar               1319 non-null   float64\n",
      " 6   CK-MB                     1319 non-null   float64\n",
      " 7   Troponin                  1319 non-null   float64\n",
      " 8   Result                    1319 non-null   object \n",
      "dtypes: float64(3), int64(5), object(1)\n",
      "memory usage: 92.9+ KB\n"
     ]
    }
   ],
   "source": [
    "# Get information from data \n",
    "df.info()"
   ]
  },
  {
   "cell_type": "code",
   "execution_count": 6,
   "id": "19a2b002",
   "metadata": {},
   "outputs": [
    {
     "data": {
      "text/html": [
       "<div>\n",
       "<style scoped>\n",
       "    .dataframe tbody tr th:only-of-type {\n",
       "        vertical-align: middle;\n",
       "    }\n",
       "\n",
       "    .dataframe tbody tr th {\n",
       "        vertical-align: top;\n",
       "    }\n",
       "\n",
       "    .dataframe thead th {\n",
       "        text-align: right;\n",
       "    }\n",
       "</style>\n",
       "<table border=\"1\" class=\"dataframe\">\n",
       "  <thead>\n",
       "    <tr style=\"text-align: right;\">\n",
       "      <th></th>\n",
       "      <th>Age</th>\n",
       "      <th>Gender</th>\n",
       "      <th>Heart rate</th>\n",
       "      <th>Systolic blood pressure</th>\n",
       "      <th>Diastolic blood pressure</th>\n",
       "      <th>Blood sugar</th>\n",
       "      <th>CK-MB</th>\n",
       "      <th>Troponin</th>\n",
       "    </tr>\n",
       "  </thead>\n",
       "  <tbody>\n",
       "    <tr>\n",
       "      <th>count</th>\n",
       "      <td>1319.000000</td>\n",
       "      <td>1319.000000</td>\n",
       "      <td>1319.000000</td>\n",
       "      <td>1319.000000</td>\n",
       "      <td>1319.000000</td>\n",
       "      <td>1319.000000</td>\n",
       "      <td>1319.000000</td>\n",
       "      <td>1319.000000</td>\n",
       "    </tr>\n",
       "    <tr>\n",
       "      <th>mean</th>\n",
       "      <td>56.193328</td>\n",
       "      <td>0.659591</td>\n",
       "      <td>78.336619</td>\n",
       "      <td>127.170584</td>\n",
       "      <td>72.269143</td>\n",
       "      <td>146.634344</td>\n",
       "      <td>15.274306</td>\n",
       "      <td>0.360942</td>\n",
       "    </tr>\n",
       "    <tr>\n",
       "      <th>std</th>\n",
       "      <td>13.638173</td>\n",
       "      <td>0.474027</td>\n",
       "      <td>51.630270</td>\n",
       "      <td>26.122720</td>\n",
       "      <td>14.033924</td>\n",
       "      <td>74.923045</td>\n",
       "      <td>46.327083</td>\n",
       "      <td>1.154568</td>\n",
       "    </tr>\n",
       "    <tr>\n",
       "      <th>min</th>\n",
       "      <td>14.000000</td>\n",
       "      <td>0.000000</td>\n",
       "      <td>20.000000</td>\n",
       "      <td>42.000000</td>\n",
       "      <td>38.000000</td>\n",
       "      <td>35.000000</td>\n",
       "      <td>0.321000</td>\n",
       "      <td>0.001000</td>\n",
       "    </tr>\n",
       "    <tr>\n",
       "      <th>25%</th>\n",
       "      <td>47.000000</td>\n",
       "      <td>0.000000</td>\n",
       "      <td>64.000000</td>\n",
       "      <td>110.000000</td>\n",
       "      <td>62.000000</td>\n",
       "      <td>98.000000</td>\n",
       "      <td>1.655000</td>\n",
       "      <td>0.006000</td>\n",
       "    </tr>\n",
       "    <tr>\n",
       "      <th>50%</th>\n",
       "      <td>58.000000</td>\n",
       "      <td>1.000000</td>\n",
       "      <td>74.000000</td>\n",
       "      <td>124.000000</td>\n",
       "      <td>72.000000</td>\n",
       "      <td>116.000000</td>\n",
       "      <td>2.850000</td>\n",
       "      <td>0.014000</td>\n",
       "    </tr>\n",
       "    <tr>\n",
       "      <th>75%</th>\n",
       "      <td>65.000000</td>\n",
       "      <td>1.000000</td>\n",
       "      <td>85.000000</td>\n",
       "      <td>143.000000</td>\n",
       "      <td>81.000000</td>\n",
       "      <td>169.500000</td>\n",
       "      <td>5.805000</td>\n",
       "      <td>0.085500</td>\n",
       "    </tr>\n",
       "    <tr>\n",
       "      <th>max</th>\n",
       "      <td>103.000000</td>\n",
       "      <td>1.000000</td>\n",
       "      <td>1111.000000</td>\n",
       "      <td>223.000000</td>\n",
       "      <td>154.000000</td>\n",
       "      <td>541.000000</td>\n",
       "      <td>300.000000</td>\n",
       "      <td>10.300000</td>\n",
       "    </tr>\n",
       "  </tbody>\n",
       "</table>\n",
       "</div>"
      ],
      "text/plain": [
       "               Age       Gender   Heart rate  Systolic blood pressure  \\\n",
       "count  1319.000000  1319.000000  1319.000000              1319.000000   \n",
       "mean     56.193328     0.659591    78.336619               127.170584   \n",
       "std      13.638173     0.474027    51.630270                26.122720   \n",
       "min      14.000000     0.000000    20.000000                42.000000   \n",
       "25%      47.000000     0.000000    64.000000               110.000000   \n",
       "50%      58.000000     1.000000    74.000000               124.000000   \n",
       "75%      65.000000     1.000000    85.000000               143.000000   \n",
       "max     103.000000     1.000000  1111.000000               223.000000   \n",
       "\n",
       "       Diastolic blood pressure  Blood sugar        CK-MB     Troponin  \n",
       "count               1319.000000  1319.000000  1319.000000  1319.000000  \n",
       "mean                  72.269143   146.634344    15.274306     0.360942  \n",
       "std                   14.033924    74.923045    46.327083     1.154568  \n",
       "min                   38.000000    35.000000     0.321000     0.001000  \n",
       "25%                   62.000000    98.000000     1.655000     0.006000  \n",
       "50%                   72.000000   116.000000     2.850000     0.014000  \n",
       "75%                   81.000000   169.500000     5.805000     0.085500  \n",
       "max                  154.000000   541.000000   300.000000    10.300000  "
      ]
     },
     "execution_count": 6,
     "metadata": {},
     "output_type": "execute_result"
    }
   ],
   "source": [
    "# Describe data\n",
    "df.describe()"
   ]
  },
  {
   "cell_type": "code",
   "execution_count": 7,
   "id": "4c22f464",
   "metadata": {},
   "outputs": [
    {
     "data": {
      "text/plain": [
       "Index(['Age', 'Gender', 'Heart rate', 'Systolic blood pressure',\n",
       "       'Diastolic blood pressure', 'Blood sugar', 'CK-MB', 'Troponin',\n",
       "       'Result'],\n",
       "      dtype='object')"
      ]
     },
     "execution_count": 7,
     "metadata": {},
     "output_type": "execute_result"
    }
   ],
   "source": [
    "# Get columns name\n",
    "df.columns"
   ]
  },
  {
   "cell_type": "code",
   "execution_count": 11,
   "id": "956b4d1c",
   "metadata": {},
   "outputs": [
    {
     "name": "stdout",
     "output_type": "stream",
     "text": [
      "\n",
      "First Row:\n",
      "Age                               63\n",
      "Gender                             1\n",
      "Heart rate                        66\n",
      "Systolic blood pressure          160\n",
      "Diastolic blood pressure          83\n",
      "Blood sugar                    160.0\n",
      "CK-MB                            1.8\n",
      "Troponin                       0.012\n",
      "Result                      negative\n",
      "Name: 0, dtype: object\n",
      "\n",
      "Age Column:\n",
      "0       63\n",
      "1       20\n",
      "2       56\n",
      "3       66\n",
      "4       54\n",
      "        ..\n",
      "1314    44\n",
      "1315    66\n",
      "1316    45\n",
      "1317    54\n",
      "1318    51\n",
      "Name: Age, Length: 1319, dtype: int64\n"
     ]
    }
   ],
   "source": [
    "# Accessing data\n",
    "print(\"\\nFirst Row:\")\n",
    "print(df.iloc[0])\n",
    "print(\"\\nAge Column:\")\n",
    "print(df['Age'])"
   ]
  },
  {
   "cell_type": "code",
   "execution_count": 15,
   "id": "a6227cb4",
   "metadata": {},
   "outputs": [
    {
     "name": "stdout",
     "output_type": "stream",
     "text": [
      "\n",
      "Updated DataFrame:\n"
     ]
    },
    {
     "data": {
      "text/html": [
       "<div>\n",
       "<style scoped>\n",
       "    .dataframe tbody tr th:only-of-type {\n",
       "        vertical-align: middle;\n",
       "    }\n",
       "\n",
       "    .dataframe tbody tr th {\n",
       "        vertical-align: top;\n",
       "    }\n",
       "\n",
       "    .dataframe thead th {\n",
       "        text-align: right;\n",
       "    }\n",
       "</style>\n",
       "<table border=\"1\" class=\"dataframe\">\n",
       "  <thead>\n",
       "    <tr style=\"text-align: right;\">\n",
       "      <th></th>\n",
       "      <th>Age</th>\n",
       "      <th>Gender</th>\n",
       "      <th>Heart rate</th>\n",
       "      <th>Systolic blood pressure</th>\n",
       "      <th>Diastolic blood pressure</th>\n",
       "      <th>Blood sugar</th>\n",
       "      <th>CK-MB</th>\n",
       "      <th>Troponin</th>\n",
       "      <th>Result</th>\n",
       "      <th>Patient-ID</th>\n",
       "    </tr>\n",
       "  </thead>\n",
       "  <tbody>\n",
       "    <tr>\n",
       "      <th>0</th>\n",
       "      <td>63</td>\n",
       "      <td>1</td>\n",
       "      <td>66</td>\n",
       "      <td>160</td>\n",
       "      <td>83</td>\n",
       "      <td>160.0</td>\n",
       "      <td>1.80</td>\n",
       "      <td>0.012</td>\n",
       "      <td>negative</td>\n",
       "      <td>True</td>\n",
       "    </tr>\n",
       "    <tr>\n",
       "      <th>1</th>\n",
       "      <td>20</td>\n",
       "      <td>1</td>\n",
       "      <td>94</td>\n",
       "      <td>98</td>\n",
       "      <td>46</td>\n",
       "      <td>296.0</td>\n",
       "      <td>6.75</td>\n",
       "      <td>1.060</td>\n",
       "      <td>positive</td>\n",
       "      <td>True</td>\n",
       "    </tr>\n",
       "    <tr>\n",
       "      <th>2</th>\n",
       "      <td>56</td>\n",
       "      <td>1</td>\n",
       "      <td>64</td>\n",
       "      <td>160</td>\n",
       "      <td>77</td>\n",
       "      <td>270.0</td>\n",
       "      <td>1.99</td>\n",
       "      <td>0.003</td>\n",
       "      <td>negative</td>\n",
       "      <td>True</td>\n",
       "    </tr>\n",
       "    <tr>\n",
       "      <th>3</th>\n",
       "      <td>66</td>\n",
       "      <td>1</td>\n",
       "      <td>70</td>\n",
       "      <td>120</td>\n",
       "      <td>55</td>\n",
       "      <td>270.0</td>\n",
       "      <td>13.87</td>\n",
       "      <td>0.122</td>\n",
       "      <td>positive</td>\n",
       "      <td>True</td>\n",
       "    </tr>\n",
       "    <tr>\n",
       "      <th>4</th>\n",
       "      <td>54</td>\n",
       "      <td>1</td>\n",
       "      <td>64</td>\n",
       "      <td>112</td>\n",
       "      <td>65</td>\n",
       "      <td>300.0</td>\n",
       "      <td>1.08</td>\n",
       "      <td>0.003</td>\n",
       "      <td>negative</td>\n",
       "      <td>True</td>\n",
       "    </tr>\n",
       "  </tbody>\n",
       "</table>\n",
       "</div>"
      ],
      "text/plain": [
       "   Age  Gender  Heart rate  Systolic blood pressure  Diastolic blood pressure  \\\n",
       "0   63       1          66                      160                        83   \n",
       "1   20       1          94                       98                        46   \n",
       "2   56       1          64                      160                        77   \n",
       "3   66       1          70                      120                        55   \n",
       "4   54       1          64                      112                        65   \n",
       "\n",
       "   Blood sugar  CK-MB  Troponin    Result  Patient-ID  \n",
       "0        160.0   1.80     0.012  negative        True  \n",
       "1        296.0   6.75     1.060  positive        True  \n",
       "2        270.0   1.99     0.003  negative        True  \n",
       "3        270.0  13.87     0.122  positive        True  \n",
       "4        300.0   1.08     0.003  negative        True  "
      ]
     },
     "execution_count": 15,
     "metadata": {},
     "output_type": "execute_result"
    }
   ],
   "source": [
    "# Add a new column\n",
    "\n",
    "df['Patient-ID'] = True\n",
    "print(\"\\nUpdated DataFrame:\")\n",
    "df.head()\n"
   ]
  },
  {
   "cell_type": "code",
   "execution_count": 16,
   "id": "cb814dca",
   "metadata": {},
   "outputs": [
    {
     "name": "stdout",
     "output_type": "stream",
     "text": [
      "\n",
      "People older than 60:\n"
     ]
    },
    {
     "data": {
      "text/html": [
       "<div>\n",
       "<style scoped>\n",
       "    .dataframe tbody tr th:only-of-type {\n",
       "        vertical-align: middle;\n",
       "    }\n",
       "\n",
       "    .dataframe tbody tr th {\n",
       "        vertical-align: top;\n",
       "    }\n",
       "\n",
       "    .dataframe thead th {\n",
       "        text-align: right;\n",
       "    }\n",
       "</style>\n",
       "<table border=\"1\" class=\"dataframe\">\n",
       "  <thead>\n",
       "    <tr style=\"text-align: right;\">\n",
       "      <th></th>\n",
       "      <th>Age</th>\n",
       "      <th>Gender</th>\n",
       "      <th>Heart rate</th>\n",
       "      <th>Systolic blood pressure</th>\n",
       "      <th>Diastolic blood pressure</th>\n",
       "      <th>Blood sugar</th>\n",
       "      <th>CK-MB</th>\n",
       "      <th>Troponin</th>\n",
       "      <th>Result</th>\n",
       "      <th>Patient-ID</th>\n",
       "    </tr>\n",
       "  </thead>\n",
       "  <tbody>\n",
       "    <tr>\n",
       "      <th>0</th>\n",
       "      <td>63</td>\n",
       "      <td>1</td>\n",
       "      <td>66</td>\n",
       "      <td>160</td>\n",
       "      <td>83</td>\n",
       "      <td>160.0</td>\n",
       "      <td>1.80</td>\n",
       "      <td>0.012</td>\n",
       "      <td>negative</td>\n",
       "      <td>True</td>\n",
       "    </tr>\n",
       "    <tr>\n",
       "      <th>3</th>\n",
       "      <td>66</td>\n",
       "      <td>1</td>\n",
       "      <td>70</td>\n",
       "      <td>120</td>\n",
       "      <td>55</td>\n",
       "      <td>270.0</td>\n",
       "      <td>13.87</td>\n",
       "      <td>0.122</td>\n",
       "      <td>positive</td>\n",
       "      <td>True</td>\n",
       "    </tr>\n",
       "    <tr>\n",
       "      <th>7</th>\n",
       "      <td>61</td>\n",
       "      <td>1</td>\n",
       "      <td>60</td>\n",
       "      <td>214</td>\n",
       "      <td>82</td>\n",
       "      <td>87.0</td>\n",
       "      <td>300.00</td>\n",
       "      <td>2.370</td>\n",
       "      <td>positive</td>\n",
       "      <td>True</td>\n",
       "    </tr>\n",
       "    <tr>\n",
       "      <th>9</th>\n",
       "      <td>65</td>\n",
       "      <td>1</td>\n",
       "      <td>61</td>\n",
       "      <td>160</td>\n",
       "      <td>95</td>\n",
       "      <td>100.0</td>\n",
       "      <td>2.84</td>\n",
       "      <td>0.011</td>\n",
       "      <td>negative</td>\n",
       "      <td>True</td>\n",
       "    </tr>\n",
       "    <tr>\n",
       "      <th>11</th>\n",
       "      <td>63</td>\n",
       "      <td>0</td>\n",
       "      <td>60</td>\n",
       "      <td>150</td>\n",
       "      <td>83</td>\n",
       "      <td>198.0</td>\n",
       "      <td>2.39</td>\n",
       "      <td>0.013</td>\n",
       "      <td>negative</td>\n",
       "      <td>True</td>\n",
       "    </tr>\n",
       "    <tr>\n",
       "      <th>...</th>\n",
       "      <td>...</td>\n",
       "      <td>...</td>\n",
       "      <td>...</td>\n",
       "      <td>...</td>\n",
       "      <td>...</td>\n",
       "      <td>...</td>\n",
       "      <td>...</td>\n",
       "      <td>...</td>\n",
       "      <td>...</td>\n",
       "      <td>...</td>\n",
       "    </tr>\n",
       "    <tr>\n",
       "      <th>1299</th>\n",
       "      <td>62</td>\n",
       "      <td>1</td>\n",
       "      <td>90</td>\n",
       "      <td>136</td>\n",
       "      <td>68</td>\n",
       "      <td>141.0</td>\n",
       "      <td>1.83</td>\n",
       "      <td>0.014</td>\n",
       "      <td>negative</td>\n",
       "      <td>True</td>\n",
       "    </tr>\n",
       "    <tr>\n",
       "      <th>1310</th>\n",
       "      <td>70</td>\n",
       "      <td>0</td>\n",
       "      <td>80</td>\n",
       "      <td>135</td>\n",
       "      <td>75</td>\n",
       "      <td>351.0</td>\n",
       "      <td>2.21</td>\n",
       "      <td>10.000</td>\n",
       "      <td>positive</td>\n",
       "      <td>True</td>\n",
       "    </tr>\n",
       "    <tr>\n",
       "      <th>1311</th>\n",
       "      <td>85</td>\n",
       "      <td>1</td>\n",
       "      <td>112</td>\n",
       "      <td>115</td>\n",
       "      <td>69</td>\n",
       "      <td>114.0</td>\n",
       "      <td>2.19</td>\n",
       "      <td>0.062</td>\n",
       "      <td>positive</td>\n",
       "      <td>True</td>\n",
       "    </tr>\n",
       "    <tr>\n",
       "      <th>1313</th>\n",
       "      <td>86</td>\n",
       "      <td>0</td>\n",
       "      <td>40</td>\n",
       "      <td>179</td>\n",
       "      <td>68</td>\n",
       "      <td>147.0</td>\n",
       "      <td>5.22</td>\n",
       "      <td>0.011</td>\n",
       "      <td>negative</td>\n",
       "      <td>True</td>\n",
       "    </tr>\n",
       "    <tr>\n",
       "      <th>1315</th>\n",
       "      <td>66</td>\n",
       "      <td>1</td>\n",
       "      <td>84</td>\n",
       "      <td>125</td>\n",
       "      <td>55</td>\n",
       "      <td>149.0</td>\n",
       "      <td>1.33</td>\n",
       "      <td>0.172</td>\n",
       "      <td>positive</td>\n",
       "      <td>True</td>\n",
       "    </tr>\n",
       "  </tbody>\n",
       "</table>\n",
       "<p>514 rows × 10 columns</p>\n",
       "</div>"
      ],
      "text/plain": [
       "      Age  Gender  Heart rate  Systolic blood pressure  \\\n",
       "0      63       1          66                      160   \n",
       "3      66       1          70                      120   \n",
       "7      61       1          60                      214   \n",
       "9      65       1          61                      160   \n",
       "11     63       0          60                      150   \n",
       "...   ...     ...         ...                      ...   \n",
       "1299   62       1          90                      136   \n",
       "1310   70       0          80                      135   \n",
       "1311   85       1         112                      115   \n",
       "1313   86       0          40                      179   \n",
       "1315   66       1          84                      125   \n",
       "\n",
       "      Diastolic blood pressure  Blood sugar   CK-MB  Troponin    Result  \\\n",
       "0                           83        160.0    1.80     0.012  negative   \n",
       "3                           55        270.0   13.87     0.122  positive   \n",
       "7                           82         87.0  300.00     2.370  positive   \n",
       "9                           95        100.0    2.84     0.011  negative   \n",
       "11                          83        198.0    2.39     0.013  negative   \n",
       "...                        ...          ...     ...       ...       ...   \n",
       "1299                        68        141.0    1.83     0.014  negative   \n",
       "1310                        75        351.0    2.21    10.000  positive   \n",
       "1311                        69        114.0    2.19     0.062  positive   \n",
       "1313                        68        147.0    5.22     0.011  negative   \n",
       "1315                        55        149.0    1.33     0.172  positive   \n",
       "\n",
       "      Patient-ID  \n",
       "0           True  \n",
       "3           True  \n",
       "7           True  \n",
       "9           True  \n",
       "11          True  \n",
       "...          ...  \n",
       "1299        True  \n",
       "1310        True  \n",
       "1311        True  \n",
       "1313        True  \n",
       "1315        True  \n",
       "\n",
       "[514 rows x 10 columns]"
      ]
     },
     "execution_count": 16,
     "metadata": {},
     "output_type": "execute_result"
    }
   ],
   "source": [
    "# Filtering data\n",
    "\n",
    "print(\"\\nPeople older than 60:\")\n",
    "df[df['Age'] > 60]"
   ]
  },
  {
   "cell_type": "code",
   "execution_count": 18,
   "id": "f78d2115",
   "metadata": {},
   "outputs": [
    {
     "data": {
      "text/plain": [
       "1    870\n",
       "0    449\n",
       "Name: Gender, dtype: int64"
      ]
     },
     "execution_count": 18,
     "metadata": {},
     "output_type": "execute_result"
    }
   ],
   "source": [
    "# Value of different group of data\n",
    "\n",
    "df['Gender'].value_counts()"
   ]
  },
  {
   "cell_type": "code",
   "execution_count": 17,
   "id": "ee8e2a81",
   "metadata": {},
   "outputs": [
    {
     "name": "stdout",
     "output_type": "stream",
     "text": [
      "\n",
      "Average Age by Gender:\n",
      "Gender\n",
      "0    57.968820\n",
      "1    55.277011\n",
      "Name: Age, dtype: float64\n"
     ]
    }
   ],
   "source": [
    "# Grouping data\n",
    "\n",
    "grouped = df.groupby('Gender')['Age'].mean()\n",
    "print(\"\\nAverage Age by Gender:\")\n",
    "print(grouped)"
   ]
  },
  {
   "cell_type": "code",
   "execution_count": 19,
   "id": "fe9b3502",
   "metadata": {},
   "outputs": [
    {
     "name": "stdout",
     "output_type": "stream",
     "text": [
      "\n",
      "DataFrame with Missing Values:\n"
     ]
    },
    {
     "data": {
      "text/html": [
       "<div>\n",
       "<style scoped>\n",
       "    .dataframe tbody tr th:only-of-type {\n",
       "        vertical-align: middle;\n",
       "    }\n",
       "\n",
       "    .dataframe tbody tr th {\n",
       "        vertical-align: top;\n",
       "    }\n",
       "\n",
       "    .dataframe thead th {\n",
       "        text-align: right;\n",
       "    }\n",
       "</style>\n",
       "<table border=\"1\" class=\"dataframe\">\n",
       "  <thead>\n",
       "    <tr style=\"text-align: right;\">\n",
       "      <th></th>\n",
       "      <th>Name</th>\n",
       "      <th>Age</th>\n",
       "      <th>City</th>\n",
       "    </tr>\n",
       "  </thead>\n",
       "  <tbody>\n",
       "    <tr>\n",
       "      <th>0</th>\n",
       "      <td>Alice</td>\n",
       "      <td>25.0</td>\n",
       "      <td>New York</td>\n",
       "    </tr>\n",
       "    <tr>\n",
       "      <th>1</th>\n",
       "      <td>Bob</td>\n",
       "      <td>NaN</td>\n",
       "      <td>Los Angeles</td>\n",
       "    </tr>\n",
       "    <tr>\n",
       "      <th>2</th>\n",
       "      <td>None</td>\n",
       "      <td>35.0</td>\n",
       "      <td>None</td>\n",
       "    </tr>\n",
       "  </tbody>\n",
       "</table>\n",
       "</div>"
      ],
      "text/plain": [
       "    Name   Age         City\n",
       "0  Alice  25.0     New York\n",
       "1    Bob   NaN  Los Angeles\n",
       "2   None  35.0         None"
      ]
     },
     "execution_count": 19,
     "metadata": {},
     "output_type": "execute_result"
    }
   ],
   "source": [
    "# Handling missing data\n",
    "\n",
    "missing_data = {\n",
    "    \"Name\": [\"Alice\", \"Bob\", None],\n",
    "    \"Age\": [25, None, 35],\n",
    "    \"City\": [\"New York\", \"Los Angeles\", None]\n",
    "}\n",
    "\n",
    "df_missing = pd.DataFrame(missing_data)\n",
    "print(\"\\nDataFrame with Missing Values:\")\n",
    "\n",
    "df_missing.head()\n"
   ]
  },
  {
   "cell_type": "code",
   "execution_count": 21,
   "id": "addfc097",
   "metadata": {},
   "outputs": [
    {
     "data": {
      "text/html": [
       "<div>\n",
       "<style scoped>\n",
       "    .dataframe tbody tr th:only-of-type {\n",
       "        vertical-align: middle;\n",
       "    }\n",
       "\n",
       "    .dataframe tbody tr th {\n",
       "        vertical-align: top;\n",
       "    }\n",
       "\n",
       "    .dataframe thead th {\n",
       "        text-align: right;\n",
       "    }\n",
       "</style>\n",
       "<table border=\"1\" class=\"dataframe\">\n",
       "  <thead>\n",
       "    <tr style=\"text-align: right;\">\n",
       "      <th></th>\n",
       "      <th>Name</th>\n",
       "      <th>Age</th>\n",
       "      <th>City</th>\n",
       "    </tr>\n",
       "  </thead>\n",
       "  <tbody>\n",
       "    <tr>\n",
       "      <th>0</th>\n",
       "      <td>False</td>\n",
       "      <td>False</td>\n",
       "      <td>False</td>\n",
       "    </tr>\n",
       "    <tr>\n",
       "      <th>1</th>\n",
       "      <td>False</td>\n",
       "      <td>True</td>\n",
       "      <td>False</td>\n",
       "    </tr>\n",
       "    <tr>\n",
       "      <th>2</th>\n",
       "      <td>True</td>\n",
       "      <td>False</td>\n",
       "      <td>True</td>\n",
       "    </tr>\n",
       "  </tbody>\n",
       "</table>\n",
       "</div>"
      ],
      "text/plain": [
       "    Name    Age   City\n",
       "0  False  False  False\n",
       "1  False   True  False\n",
       "2   True  False   True"
      ]
     },
     "execution_count": 21,
     "metadata": {},
     "output_type": "execute_result"
    }
   ],
   "source": [
    "df_missing.isna()"
   ]
  },
  {
   "cell_type": "code",
   "execution_count": 27,
   "id": "f4c89038",
   "metadata": {},
   "outputs": [
    {
     "name": "stdout",
     "output_type": "stream",
     "text": [
      "\n",
      "Filled DataFrame:\n",
      "      Name      Age         City\n",
      "0    Alice     25.0     New York\n",
      "1      Bob  Unknown  Los Angeles\n",
      "2  Unknown     35.0      Unknown\n"
     ]
    }
   ],
   "source": [
    "# Fill missing values\n",
    "\n",
    "df_missing_filled = df_missing.fillna(\"Unknown\")\n",
    "print(\"\\nFilled DataFrame:\")\n",
    "print(df_missing_filled)"
   ]
  },
  {
   "cell_type": "code",
   "execution_count": 26,
   "id": "82075f3e",
   "metadata": {},
   "outputs": [
    {
     "name": "stdout",
     "output_type": "stream",
     "text": [
      "\n",
      "Dropped Rows DataFrame:\n",
      "    Name   Age      City\n",
      "0  Alice  25.0  New York\n"
     ]
    }
   ],
   "source": [
    "# Drop rows with missing values\n",
    "\n",
    "df_missing_dropped = df_missing.dropna()\n",
    "print(\"\\nDropped Rows DataFrame:\")\n",
    "print(df_missing_dropped)"
   ]
  },
  {
   "cell_type": "code",
   "execution_count": 25,
   "id": "80d12dbc",
   "metadata": {},
   "outputs": [
    {
     "data": {
      "text/plain": [
       "0    25.0\n",
       "1    30.0\n",
       "2    35.0\n",
       "Name: Age, dtype: float64"
      ]
     },
     "execution_count": 25,
     "metadata": {},
     "output_type": "execute_result"
    }
   ],
   "source": [
    "# Filling missing values by mode , median or mean \n",
    "\n",
    "mean = df_missing[\"Age\"].mean()\n",
    "df_missing_by_mean = df_missing[\"Age\"].fillna(mean, inplace = False)\n",
    "# if inplace = True , it would inplace the value in the current df\n",
    "df_missing_by_mean.head()"
   ]
  },
  {
   "cell_type": "code",
   "execution_count": 28,
   "id": "1811393b",
   "metadata": {},
   "outputs": [],
   "source": [
    "# Drop Nan value by a specific columns\n",
    "df_missing.dropna(subset=[\"Name\"], inplace=True)"
   ]
  },
  {
   "cell_type": "code",
   "execution_count": 29,
   "id": "139e6cf3",
   "metadata": {},
   "outputs": [
    {
     "data": {
      "text/html": [
       "<div>\n",
       "<style scoped>\n",
       "    .dataframe tbody tr th:only-of-type {\n",
       "        vertical-align: middle;\n",
       "    }\n",
       "\n",
       "    .dataframe tbody tr th {\n",
       "        vertical-align: top;\n",
       "    }\n",
       "\n",
       "    .dataframe thead th {\n",
       "        text-align: right;\n",
       "    }\n",
       "</style>\n",
       "<table border=\"1\" class=\"dataframe\">\n",
       "  <thead>\n",
       "    <tr style=\"text-align: right;\">\n",
       "      <th></th>\n",
       "      <th>Name</th>\n",
       "      <th>Age</th>\n",
       "      <th>City</th>\n",
       "    </tr>\n",
       "  </thead>\n",
       "  <tbody>\n",
       "    <tr>\n",
       "      <th>0</th>\n",
       "      <td>Alice</td>\n",
       "      <td>25.0</td>\n",
       "      <td>New York</td>\n",
       "    </tr>\n",
       "    <tr>\n",
       "      <th>1</th>\n",
       "      <td>Bob</td>\n",
       "      <td>NaN</td>\n",
       "      <td>Los Angeles</td>\n",
       "    </tr>\n",
       "  </tbody>\n",
       "</table>\n",
       "</div>"
      ],
      "text/plain": [
       "    Name   Age         City\n",
       "0  Alice  25.0     New York\n",
       "1    Bob   NaN  Los Angeles"
      ]
     },
     "execution_count": 29,
     "metadata": {},
     "output_type": "execute_result"
    }
   ],
   "source": [
    "df_missing.head()"
   ]
  },
  {
   "cell_type": "code",
   "execution_count": 30,
   "id": "18851af4",
   "metadata": {},
   "outputs": [],
   "source": [
    "# Remove duplicates row in a data \n",
    "\n",
    "df.drop_duplicates(inplace = True)"
   ]
  }
 ],
 "metadata": {
  "kernelspec": {
   "display_name": "Python 3 (ipykernel)",
   "language": "python",
   "name": "python3"
  },
  "language_info": {
   "codemirror_mode": {
    "name": "ipython",
    "version": 3
   },
   "file_extension": ".py",
   "mimetype": "text/x-python",
   "name": "python",
   "nbconvert_exporter": "python",
   "pygments_lexer": "ipython3",
   "version": "3.11.2"
  }
 },
 "nbformat": 4,
 "nbformat_minor": 5
}
